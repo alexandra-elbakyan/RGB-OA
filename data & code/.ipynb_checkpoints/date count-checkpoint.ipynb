{
 "cells": [
  {
   "cell_type": "code",
   "execution_count": 1,
   "id": "75644109-4498-4bb3-aed7-a500adc79a68",
   "metadata": {},
   "outputs": [],
   "source": [
    "using Glob\n",
    "using DelimitedFiles"
   ]
  },
  {
   "cell_type": "code",
   "execution_count": 5,
   "id": "d1a76f19-9743-45ef-83ba-6f146dcb42d3",
   "metadata": {},
   "outputs": [
    {
     "data": {
      "text/plain": [
       "\"/media/alexandra/8 TB/Projects/RGB OA/data & code/sci-hub database\""
      ]
     },
     "execution_count": 5,
     "metadata": {},
     "output_type": "execute_result"
    }
   ],
   "source": [
    "@__DIR__"
   ]
  },
  {
   "cell_type": "code",
   "execution_count": null,
   "id": "b109623c-bb38-4bc3-b871-c78e624c3642",
   "metadata": {},
   "outputs": [],
   "source": [
    "tabs = glob(\"*.tab\", @__DIR__ * \"/dataset/crossref tabs\")"
   ]
  },
  {
   "cell_type": "code",
   "execution_count": null,
   "id": "cf778814-86ee-49e5-8640-d8f2238e65a6",
   "metadata": {},
   "outputs": [],
   "source": [
    "data = readdlm(\"$directory/date count/$source.txt\", '\\t', String, '\\n', quotes = false, use_mmap = true)"
   ]
  },
  {
   "cell_type": "code",
   "execution_count": null,
   "id": "4924acf8-20b0-4cf1-b8ae-73a6cf2285c3",
   "metadata": {},
   "outputs": [],
   "source": []
  }
 ],
 "metadata": {
  "kernelspec": {
   "display_name": "Julia 1.11.2",
   "language": "julia",
   "name": "julia-1.11"
  },
  "language_info": {
   "file_extension": ".jl",
   "mimetype": "application/julia",
   "name": "julia",
   "version": "1.11.2"
  }
 },
 "nbformat": 4,
 "nbformat_minor": 5
}
