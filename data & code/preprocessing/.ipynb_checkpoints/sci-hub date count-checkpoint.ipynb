{
 "cells": [
  {
   "cell_type": "markdown",
   "id": "b1faf39d-1fa4-4ffd-b5dd-b94b98a97289",
   "metadata": {},
   "source": [
    "# Sci-Hub: number of articles available as full-text\n",
    "\n",
    "This notebook contains code in **Julia language** to calculate number of articles that were available as full-text in Sci-Hub for every date since 2011 (when Sci-Hub was established). Only articles with DOI corresponding to *journal-article* or *proceedings-article* in Crossref are counted (i.e. book chapters are omitted).\n",
    "\n",
    "The script requires pre-processed Crossref tabulated files to be present in *data/crossref* folder. To generate .tab files from publicly available Crossref dataset, see *crossref to tab.ipynb*. The script also uses *sci-hub doi date.tab* file provided by Sci-Hub as an input. That file contains, for every DOI that is currently available in Sci-Hub as full-text, the date of the earliest appearance of the DOI in Sci-Hub download logs.\n",
    "\n",
    "The script will produce *sci-hub date count.tab* file, that will contain the number of DOI available in Sci-Hub for every date formatted as YYYY-MM-DD. The output will be used in *sci-hub db growth.ipynb* notebook.\n",
    "\n",
    "The data is prepared for the paper 'From black open access to open access of colour: accepting the diversity of approaches towards free science'."
   ]
  },
  {
   "cell_type": "code",
   "execution_count": 1,
   "id": "b83db9d8-c054-493c-992d-ded1bbb89331",
   "metadata": {},
   "outputs": [],
   "source": [
    "using Glob,\n",
    "      Random,\n",
    "      ProgressMeter,\n",
    "      DelimitedFiles,\n",
    "      DataStructures\n",
    "\n",
    "      dir = @__DIR__ ;"
   ]
  },
  {
   "cell_type": "markdown",
   "id": "e2ab06b8-fa24-4b11-ac48-27079ca94f43",
   "metadata": {},
   "source": [
    "Load Sci-Hub's list of DOI available as full-text with date corresponding to earliest appearance in download logs for every doi:"
   ]
  },
  {
   "cell_type": "code",
   "execution_count": 2,
   "id": "493ab8e0-74d5-44b3-b16b-09bed3e59282",
   "metadata": {},
   "outputs": [],
   "source": [
    "scihub_doi_date = dir * \"/../data/sci-hub doi date.tab\" ;\n",
    "\n",
    "doi_date = readdlm(scihub_doi_date, '\\t', String, '\\n', quotes = false, use_mmap = true)\n",
    "doi_date = Dict(doi_date[:,1] .=> doi_date[:,2]) ;"
   ]
  },
  {
   "cell_type": "markdown",
   "id": "c6b2a873-bc21-4d6d-88a8-73490c5c274b",
   "metadata": {},
   "source": [
    "Load the list of Crossref .tab files:"
   ]
  },
  {
   "cell_type": "code",
   "execution_count": 3,
   "id": "f3f66078-4209-471e-aa9c-a88be5e5d29c",
   "metadata": {
    "scrolled": true
   },
   "outputs": [
    {
     "data": {
      "text/plain": [
       "31601-element Vector{String}:\n",
       " \"/media/alexandra/8 TB/Projects/\"\u001b[93m\u001b[1m ⋯ 24 bytes ⋯ \u001b[22m\u001b[39m\"ocessing/../data/crossref/0.tab\"\n",
       " \"/media/alexandra/8 TB/Projects/\"\u001b[93m\u001b[1m ⋯ 24 bytes ⋯ \u001b[22m\u001b[39m\"ocessing/../data/crossref/1.tab\"\n",
       " \"/media/alexandra/8 TB/Projects/\"\u001b[93m\u001b[1m ⋯ 25 bytes ⋯ \u001b[22m\u001b[39m\"cessing/../data/crossref/10.tab\"\n",
       " \"/media/alexandra/8 TB/Projects/\"\u001b[93m\u001b[1m ⋯ 26 bytes ⋯ \u001b[22m\u001b[39m\"essing/../data/crossref/100.tab\"\n",
       " \"/media/alexandra/8 TB/Projects/\"\u001b[93m\u001b[1m ⋯ 27 bytes ⋯ \u001b[22m\u001b[39m\"ssing/../data/crossref/1000.tab\"\n",
       " \"/media/alexandra/8 TB/Projects/\"\u001b[93m\u001b[1m ⋯ 28 bytes ⋯ \u001b[22m\u001b[39m\"sing/../data/crossref/10000.tab\"\n",
       " \"/media/alexandra/8 TB/Projects/\"\u001b[93m\u001b[1m ⋯ 28 bytes ⋯ \u001b[22m\u001b[39m\"sing/../data/crossref/10001.tab\"\n",
       " \"/media/alexandra/8 TB/Projects/\"\u001b[93m\u001b[1m ⋯ 28 bytes ⋯ \u001b[22m\u001b[39m\"sing/../data/crossref/10002.tab\"\n",
       " \"/media/alexandra/8 TB/Projects/\"\u001b[93m\u001b[1m ⋯ 28 bytes ⋯ \u001b[22m\u001b[39m\"sing/../data/crossref/10003.tab\"\n",
       " \"/media/alexandra/8 TB/Projects/\"\u001b[93m\u001b[1m ⋯ 28 bytes ⋯ \u001b[22m\u001b[39m\"sing/../data/crossref/10004.tab\"\n",
       " \"/media/alexandra/8 TB/Projects/\"\u001b[93m\u001b[1m ⋯ 28 bytes ⋯ \u001b[22m\u001b[39m\"sing/../data/crossref/10005.tab\"\n",
       " \"/media/alexandra/8 TB/Projects/\"\u001b[93m\u001b[1m ⋯ 28 bytes ⋯ \u001b[22m\u001b[39m\"sing/../data/crossref/10006.tab\"\n",
       " \"/media/alexandra/8 TB/Projects/\"\u001b[93m\u001b[1m ⋯ 28 bytes ⋯ \u001b[22m\u001b[39m\"sing/../data/crossref/10007.tab\"\n",
       " ⋮\n",
       " \"/media/alexandra/8 TB/Projects/\"\u001b[93m\u001b[1m ⋯ 27 bytes ⋯ \u001b[22m\u001b[39m\"ssing/../data/crossref/9989.tab\"\n",
       " \"/media/alexandra/8 TB/Projects/\"\u001b[93m\u001b[1m ⋯ 26 bytes ⋯ \u001b[22m\u001b[39m\"essing/../data/crossref/999.tab\"\n",
       " \"/media/alexandra/8 TB/Projects/\"\u001b[93m\u001b[1m ⋯ 27 bytes ⋯ \u001b[22m\u001b[39m\"ssing/../data/crossref/9990.tab\"\n",
       " \"/media/alexandra/8 TB/Projects/\"\u001b[93m\u001b[1m ⋯ 27 bytes ⋯ \u001b[22m\u001b[39m\"ssing/../data/crossref/9991.tab\"\n",
       " \"/media/alexandra/8 TB/Projects/\"\u001b[93m\u001b[1m ⋯ 27 bytes ⋯ \u001b[22m\u001b[39m\"ssing/../data/crossref/9992.tab\"\n",
       " \"/media/alexandra/8 TB/Projects/\"\u001b[93m\u001b[1m ⋯ 27 bytes ⋯ \u001b[22m\u001b[39m\"ssing/../data/crossref/9993.tab\"\n",
       " \"/media/alexandra/8 TB/Projects/\"\u001b[93m\u001b[1m ⋯ 27 bytes ⋯ \u001b[22m\u001b[39m\"ssing/../data/crossref/9994.tab\"\n",
       " \"/media/alexandra/8 TB/Projects/\"\u001b[93m\u001b[1m ⋯ 27 bytes ⋯ \u001b[22m\u001b[39m\"ssing/../data/crossref/9995.tab\"\n",
       " \"/media/alexandra/8 TB/Projects/\"\u001b[93m\u001b[1m ⋯ 27 bytes ⋯ \u001b[22m\u001b[39m\"ssing/../data/crossref/9996.tab\"\n",
       " \"/media/alexandra/8 TB/Projects/\"\u001b[93m\u001b[1m ⋯ 27 bytes ⋯ \u001b[22m\u001b[39m\"ssing/../data/crossref/9997.tab\"\n",
       " \"/media/alexandra/8 TB/Projects/\"\u001b[93m\u001b[1m ⋯ 27 bytes ⋯ \u001b[22m\u001b[39m\"ssing/../data/crossref/9998.tab\"\n",
       " \"/media/alexandra/8 TB/Projects/\"\u001b[93m\u001b[1m ⋯ 27 bytes ⋯ \u001b[22m\u001b[39m\"ssing/../data/crossref/9999.tab\""
      ]
     },
     "execution_count": 3,
     "metadata": {},
     "output_type": "execute_result"
    }
   ],
   "source": [
    "tabs = glob(\"*.tab\", dir * \"/../data/crossref\")"
   ]
  },
  {
   "cell_type": "markdown",
   "id": "4dac660d-bd17-498a-bc42-f633d4614d18",
   "metadata": {},
   "source": [
    "The following function takes Crossref .tab file as in input, and processes it, extracting DOIs that are both:\n",
    "\n",
    "- are of specified type (in this case, journal-article or proceedings-article)\n",
    "- can be found in Sci-Hub full-text database\n",
    "\n",
    "The list of extracted DOIs is returned as output."
   ]
  },
  {
   "cell_type": "code",
   "execution_count": 4,
   "id": "d173a63c-1412-4a45-be1d-37d8fa1b85e0",
   "metadata": {},
   "outputs": [],
   "source": [
    "function articles(tab, subset, superset)\n",
    "    \n",
    "    dois = []\n",
    "    data = readdlm(tab, '\\t', String, '\\n', quotes = false, use_mmap = true)\n",
    "    \n",
    "    for (doi, class, _, _, _) in eachrow(data)\n",
    "        ((class ∈ subset)    &&\n",
    "         (doi   ∈ superset)) &&\n",
    "         (push!(dois, doi))\n",
    "    end\n",
    "\n",
    "    dois\n",
    "end ;"
   ]
  },
  {
   "cell_type": "markdown",
   "id": "93bfe4a7-bd20-4919-923e-7fac6bc9a223",
   "metadata": {},
   "source": [
    "The function will be used to calculate the number of articles that became available Sci-Hub every day:"
   ]
  },
  {
   "cell_type": "code",
   "execution_count": 5,
   "id": "ed4560af-493e-456f-9cde-a1319d52d355",
   "metadata": {},
   "outputs": [
    {
     "name": "stdout",
     "output_type": "stream",
     "text": [
      "\u001b[32mProgress: 100%|█████████████████████████████████████████| Time: 0:07:49\u001b[39m\n"
     ]
    },
    {
     "data": {
      "text/plain": [
       "Dict{Any, Any} with 3210 entries:\n",
       "  \"2017-09-04\" => 7753\n",
       "  \"2012-05-16\" => 4747\n",
       "  \"2019-05-04\" => 5688\n",
       "  \"2013-08-11\" => 4416\n",
       "  \"2019-07-08\" => 9697\n",
       "  \"2016-03-05\" => 9695\n",
       "  \"2017-12-03\" => 4860\n",
       "  \"2017-11-23\" => 5262\n",
       "  \"2019-02-06\" => 10767\n",
       "  \"2015-09-12\" => 13917\n",
       "  \"2017-05-22\" => 7898\n",
       "  \"2019-07-04\" => 7729\n",
       "  \"2014-02-01\" => 4228\n",
       "  \"2020-02-27\" => 4937\n",
       "  \"2013-06-23\" => 6118\n",
       "  \"2018-08-14\" => 13898\n",
       "  \"2015-08-26\" => 27127\n",
       "  \"2016-03-26\" => 59611\n",
       "  \"2011-10-24\" => 527\n",
       "  \"2019-05-21\" => 16622\n",
       "  \"2016-08-28\" => 2787\n",
       "  \"2015-01-03\" => 40373\n",
       "  \"2013-07-26\" => 5995\n",
       "  \"2018-06-25\" => 23444\n",
       "  \"2012-06-25\" => 5068\n",
       "  ⋮            => ⋮"
      ]
     },
     "execution_count": 5,
     "metadata": {},
     "output_type": "execute_result"
    }
   ],
   "source": [
    "date_count = Dict()\n",
    "\n",
    "shuffle!(tabs)\n",
    "\n",
    "@showprogress output = stdout (\n",
    "    \n",
    "    # enumerate through every Crossref .tab file\n",
    "    for tab in tabs\n",
    "\n",
    "        # extract those DOI available in Sci-Hub and\n",
    "        # are either journal or proceedings article\n",
    "        dois = articles(tab, [\"journal-article\", \"proceedings-article\"], keys(doi_date))\n",
    "\n",
    "        # iterate over every DOI extracted\n",
    "        for doi in dois\n",
    "\n",
    "            # get date of earliest appearance of DOI in Sci-Hub logs\n",
    "            date = doi_date[doi]\n",
    "\n",
    "            # increment the counter for that date:\n",
    "            date ∉ keys(date_count) && (\n",
    "                date_count[date]  = 0  )\n",
    "                date_count[date] += 1\n",
    "\n",
    "            # free memory of processed DOI to avoid overloading\n",
    "            delete!(doi_date, doi)\n",
    "        end\n",
    "    end )\n",
    "\n",
    "date_count  # preview the result"
   ]
  },
  {
   "cell_type": "markdown",
   "id": "21f233ec-36d7-439a-8cd8-1036719fbf2e",
   "metadata": {},
   "source": [
    "Save calculated numbers to output file:"
   ]
  },
  {
   "cell_type": "code",
   "execution_count": 6,
   "id": "cee14a95-8030-4170-a16d-96691def3173",
   "metadata": {},
   "outputs": [],
   "source": [
    "writedlm(dir * \"/../data/sci-hub date count.tab\", date_count |> SortedDict)"
   ]
  }
 ],
 "metadata": {
  "kernelspec": {
   "display_name": "Julia 1.11.2",
   "language": "julia",
   "name": "julia-1.11"
  },
  "language_info": {
   "file_extension": ".jl",
   "mimetype": "application/julia",
   "name": "julia",
   "version": "1.11.2"
  }
 },
 "nbformat": 4,
 "nbformat_minor": 5
}
