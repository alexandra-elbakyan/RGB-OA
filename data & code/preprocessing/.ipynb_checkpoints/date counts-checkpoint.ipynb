{
 "cells": [
  {
   "cell_type": "code",
   "execution_count": 1,
   "id": "8d68f89a-22a2-446a-ad3a-8cd97cd9b05e",
   "metadata": {},
   "outputs": [],
   "source": [
    "using Distributed\n",
    "\n",
    "addprocs(48 - nprocs(); exeflags = `--project=$(Base.active_project())`) ;"
   ]
  },
  {
   "cell_type": "code",
   "execution_count": 2,
   "id": "75644109-4498-4bb3-aed7-a500adc79a68",
   "metadata": {},
   "outputs": [],
   "source": [
    "@everywhere begin\n",
    "    \n",
    "    using MD5,\n",
    "          Glob,\n",
    "          Dates,\n",
    "          Random,\n",
    "          ProgressMeter,\n",
    "          DelimitedFiles,\n",
    "          DataStructures\n",
    "\n",
    "    dir = @__DIR__ ;\n",
    "    \n",
    "end"
   ]
  },
  {
   "cell_type": "code",
   "execution_count": 3,
   "id": "b109623c-bb38-4bc3-b871-c78e624c3642",
   "metadata": {
    "scrolled": true
   },
   "outputs": [
    {
     "data": {
      "text/plain": [
       "31601-element Vector{String}:\n",
       " \"/media/alexandra/8 TB/Projects/\"\u001b[93m\u001b[1m ⋯ 24 bytes ⋯ \u001b[22m\u001b[39m\"ocessing/../data/crossref/0.tab\"\n",
       " \"/media/alexandra/8 TB/Projects/\"\u001b[93m\u001b[1m ⋯ 24 bytes ⋯ \u001b[22m\u001b[39m\"ocessing/../data/crossref/1.tab\"\n",
       " \"/media/alexandra/8 TB/Projects/\"\u001b[93m\u001b[1m ⋯ 25 bytes ⋯ \u001b[22m\u001b[39m\"cessing/../data/crossref/10.tab\"\n",
       " \"/media/alexandra/8 TB/Projects/\"\u001b[93m\u001b[1m ⋯ 26 bytes ⋯ \u001b[22m\u001b[39m\"essing/../data/crossref/100.tab\"\n",
       " \"/media/alexandra/8 TB/Projects/\"\u001b[93m\u001b[1m ⋯ 27 bytes ⋯ \u001b[22m\u001b[39m\"ssing/../data/crossref/1000.tab\"\n",
       " \"/media/alexandra/8 TB/Projects/\"\u001b[93m\u001b[1m ⋯ 28 bytes ⋯ \u001b[22m\u001b[39m\"sing/../data/crossref/10000.tab\"\n",
       " \"/media/alexandra/8 TB/Projects/\"\u001b[93m\u001b[1m ⋯ 28 bytes ⋯ \u001b[22m\u001b[39m\"sing/../data/crossref/10001.tab\"\n",
       " \"/media/alexandra/8 TB/Projects/\"\u001b[93m\u001b[1m ⋯ 28 bytes ⋯ \u001b[22m\u001b[39m\"sing/../data/crossref/10002.tab\"\n",
       " \"/media/alexandra/8 TB/Projects/\"\u001b[93m\u001b[1m ⋯ 28 bytes ⋯ \u001b[22m\u001b[39m\"sing/../data/crossref/10003.tab\"\n",
       " \"/media/alexandra/8 TB/Projects/\"\u001b[93m\u001b[1m ⋯ 28 bytes ⋯ \u001b[22m\u001b[39m\"sing/../data/crossref/10004.tab\"\n",
       " \"/media/alexandra/8 TB/Projects/\"\u001b[93m\u001b[1m ⋯ 28 bytes ⋯ \u001b[22m\u001b[39m\"sing/../data/crossref/10005.tab\"\n",
       " \"/media/alexandra/8 TB/Projects/\"\u001b[93m\u001b[1m ⋯ 28 bytes ⋯ \u001b[22m\u001b[39m\"sing/../data/crossref/10006.tab\"\n",
       " \"/media/alexandra/8 TB/Projects/\"\u001b[93m\u001b[1m ⋯ 28 bytes ⋯ \u001b[22m\u001b[39m\"sing/../data/crossref/10007.tab\"\n",
       " ⋮\n",
       " \"/media/alexandra/8 TB/Projects/\"\u001b[93m\u001b[1m ⋯ 27 bytes ⋯ \u001b[22m\u001b[39m\"ssing/../data/crossref/9989.tab\"\n",
       " \"/media/alexandra/8 TB/Projects/\"\u001b[93m\u001b[1m ⋯ 26 bytes ⋯ \u001b[22m\u001b[39m\"essing/../data/crossref/999.tab\"\n",
       " \"/media/alexandra/8 TB/Projects/\"\u001b[93m\u001b[1m ⋯ 27 bytes ⋯ \u001b[22m\u001b[39m\"ssing/../data/crossref/9990.tab\"\n",
       " \"/media/alexandra/8 TB/Projects/\"\u001b[93m\u001b[1m ⋯ 27 bytes ⋯ \u001b[22m\u001b[39m\"ssing/../data/crossref/9991.tab\"\n",
       " \"/media/alexandra/8 TB/Projects/\"\u001b[93m\u001b[1m ⋯ 27 bytes ⋯ \u001b[22m\u001b[39m\"ssing/../data/crossref/9992.tab\"\n",
       " \"/media/alexandra/8 TB/Projects/\"\u001b[93m\u001b[1m ⋯ 27 bytes ⋯ \u001b[22m\u001b[39m\"ssing/../data/crossref/9993.tab\"\n",
       " \"/media/alexandra/8 TB/Projects/\"\u001b[93m\u001b[1m ⋯ 27 bytes ⋯ \u001b[22m\u001b[39m\"ssing/../data/crossref/9994.tab\"\n",
       " \"/media/alexandra/8 TB/Projects/\"\u001b[93m\u001b[1m ⋯ 27 bytes ⋯ \u001b[22m\u001b[39m\"ssing/../data/crossref/9995.tab\"\n",
       " \"/media/alexandra/8 TB/Projects/\"\u001b[93m\u001b[1m ⋯ 27 bytes ⋯ \u001b[22m\u001b[39m\"ssing/../data/crossref/9996.tab\"\n",
       " \"/media/alexandra/8 TB/Projects/\"\u001b[93m\u001b[1m ⋯ 27 bytes ⋯ \u001b[22m\u001b[39m\"ssing/../data/crossref/9997.tab\"\n",
       " \"/media/alexandra/8 TB/Projects/\"\u001b[93m\u001b[1m ⋯ 27 bytes ⋯ \u001b[22m\u001b[39m\"ssing/../data/crossref/9998.tab\"\n",
       " \"/media/alexandra/8 TB/Projects/\"\u001b[93m\u001b[1m ⋯ 27 bytes ⋯ \u001b[22m\u001b[39m\"ssing/../data/crossref/9999.tab\""
      ]
     },
     "execution_count": 3,
     "metadata": {},
     "output_type": "execute_result"
    }
   ],
   "source": [
    "tabs = glob(\"*.tab\", dir * \"/../data/crossref\")"
   ]
  },
  {
   "cell_type": "code",
   "execution_count": 4,
   "id": "dbf8e1b1-7d5c-4cfb-9502-74a1bc34072a",
   "metadata": {},
   "outputs": [],
   "source": [
    "@everywhere function counts(tab)\n",
    "    data = readdlm(tab, '\\t', String, '\\n', quotes = false, use_mmap = true)\n",
    "\n",
    "    date_count,\n",
    "    pub_year_count =\n",
    "    \n",
    "    Dict(), Dict()\n",
    "    \n",
    "    for record in eachrow(data)\n",
    "        doi, date, t, pub = record\n",
    "        year = parse(Int, date[1:4])\n",
    "\n",
    "        if t ∈ [\"journal-article\", \"proceedings-article\"] \n",
    "            \n",
    "            (date ∉ keys(date_count)) &&\n",
    "            (date_count[date]  = 0)\n",
    "             date_count[date] += 1\n",
    "        end\n",
    "        \n",
    "        y_start, y_end = (2003, 2024)\n",
    "        \n",
    "        if (pub ∉ keys(pub_year_count))\n",
    "            pub_year_count[pub] = Dict()\n",
    "            for y in y_start:y_end\n",
    "                pub_year_count[pub][y] = 0\n",
    "            end\n",
    "        end\n",
    "\n",
    "        (year < y_start) &&\n",
    "        (year = y_start)\n",
    "        \n",
    "        pub_year_count[pub][year] += 1\n",
    "        \n",
    "    end\n",
    "\n",
    "    return (date_count, pub_year_count)\n",
    "    \n",
    "end"
   ]
  },
  {
   "cell_type": "code",
   "execution_count": 5,
   "id": "eafc57b0-28c0-4768-aef2-31ee5c87c98f",
   "metadata": {},
   "outputs": [],
   "source": [
    "@everywhere function plus(tab_a, tab_b)\n",
    "    \n",
    "    date_count,   pub_year_count   = tab_a\n",
    "    date_count_b, pub_year_count_b = tab_b\n",
    "\n",
    "    years(a, b) = merge(+, a, b)\n",
    "    \n",
    "    (merge(+,     date_count,     date_count_b),\n",
    "     merge(years, pub_year_count, pub_year_count_b))\n",
    "        \n",
    "end"
   ]
  },
  {
   "cell_type": "code",
   "execution_count": null,
   "id": "e6881218-f551-404e-9c5c-3329a706e16d",
   "metadata": {},
   "outputs": [],
   "source": [
    "# список конкретная дата - сколько DOI добавлено (только journal article и procedings)\n",
    "# список паблишер - год - сколько DOI добавлено (для всех типов контента)"
   ]
  },
  {
   "cell_type": "code",
   "execution_count": 6,
   "id": "da2a427f-74b4-4b13-8b20-17f0438c2ff6",
   "metadata": {},
   "outputs": [
    {
     "name": "stdout",
     "output_type": "stream",
     "text": [
      "\u001b[32mProgress: 100%|█████████████████████████████████████████| Time: 0:00:53\u001b[39m1:24\u001b[39m\n"
     ]
    }
   ],
   "source": [
    "shuffle!(tabs)\n",
    "\n",
    "date_count, pub_year_count =\n",
    "\n",
    "@showprogress output = stdout (\n",
    "    @distributed plus ( for tab in tabs counts(tab) end )) ;"
   ]
  },
  {
   "cell_type": "code",
   "execution_count": 7,
   "id": "fe7e9185-b504-4d3b-a988-e945b20eebc4",
   "metadata": {},
   "outputs": [
    {
     "data": {
      "text/plain": [
       "Dict{Any, Any} with 22 entries:\n",
       "  2024 => 373632\n",
       "  2004 => 1173441\n",
       "  2006 => 661006\n",
       "  2003 => 4845944\n",
       "  2009 => 587142\n",
       "  2013 => 660178\n",
       "  2015 => 713785\n",
       "  2012 => 707826\n",
       "  2008 => 613290\n",
       "  2016 => 776013\n",
       "  2021 => 1014575\n",
       "  2023 => 1025256\n",
       "  2010 => 570248\n",
       "  2020 => 861903\n",
       "  2018 => 792799\n",
       "  2017 => 770857\n",
       "  2011 => 652072\n",
       "  2007 => 511998\n",
       "  2014 => 668358\n",
       "  2005 => 833731\n",
       "  2022 => 938877\n",
       "  2019 => 777861"
      ]
     },
     "execution_count": 7,
     "metadata": {},
     "output_type": "execute_result"
    }
   ],
   "source": [
    "pub_year_count[\"Elsevier BV\"]"
   ]
  },
  {
   "cell_type": "code",
   "execution_count": 8,
   "id": "19e8bdfe-5210-40f3-b32f-06b8e9c5b511",
   "metadata": {},
   "outputs": [],
   "source": [
    "writedlm(dir * \"/../data/crossref date count.tab\", date_count |> SortedDict)"
   ]
  },
  {
   "cell_type": "code",
   "execution_count": 9,
   "id": "81adf150-9839-44fa-8aec-c29959fbf4fb",
   "metadata": {},
   "outputs": [
    {
     "name": "stdout",
     "output_type": "stream",
     "text": [
      "\u001b[32mProgress: 100%|█████████████████████████████████████████| Time: 0:00:03\u001b[39m\n"
     ]
    }
   ],
   "source": [
    "@showprogress output = stdout (\n",
    "for (pub, years) in pub_year_count\n",
    "\n",
    "    hash = bytes2hex(md5(pub))\n",
    "    \n",
    "    open(dir * \"/../data/publishers/\" * hash * \".txt\", \"w\")  do oi\n",
    "         years = years |> SortedDict\n",
    "         println(oi, pub)\n",
    "        [println(oi, string(y, \"\\t\", n)) for (y, n) in years] end\n",
    "\n",
    "end )"
   ]
  }
 ],
 "metadata": {
  "kernelspec": {
   "display_name": "Julia 1.11.2",
   "language": "julia",
   "name": "julia-1.11"
  },
  "language_info": {
   "file_extension": ".jl",
   "mimetype": "application/julia",
   "name": "julia",
   "version": "1.11.2"
  }
 },
 "nbformat": 4,
 "nbformat_minor": 5
}
