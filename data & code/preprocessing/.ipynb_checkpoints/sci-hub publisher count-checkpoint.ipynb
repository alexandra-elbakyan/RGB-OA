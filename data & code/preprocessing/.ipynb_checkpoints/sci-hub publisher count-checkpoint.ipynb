{
 "cells": [
  {
   "cell_type": "markdown",
   "id": "4d4f9249-fd59-491f-941a-882e802301c8",
   "metadata": {},
   "source": [
    "# Sci-Hub: number of full-text articles per publisher\n",
    "\n",
    "This notebook contains code in **Julia language** to calculate number of articles per each publisher and year, that are available as full-text in Sci-Hub.\n",
    "\n",
    "The script requires pre-processed Crossref tabulated files to be already available in *data/crossref* folder. To generate .tab files from publicly available Crossref dataset see *crossref to tab.ipynb*. The script also uses a list of DOI available in Sci-Hub as an input.\n",
    "\n",
    "The script will produce a separate .txt file for every publisher in Crossref, that will contain total number of articles published before 2001, as well as for every year after 2001, available as full-text in Sci-Hub. Only DOI of type *journal-article* and *proceedings-article* are counted. The data will be used in  *sci-hub percent per publisher.ipynb* notebook.\n",
    "\n",
    "The data is prepared for the paper 'From black open access to open access of colour: accepting the diversity of approaches towards free science'."
   ]
  },
  {
   "cell_type": "code",
   "execution_count": 1,
   "id": "68c2034d-6129-4b9c-b511-64cbc4c5da31",
   "metadata": {},
   "outputs": [],
   "source": [
    "using MD5,\n",
    "      Glob,\n",
    "      Random,\n",
    "      ProgressMeter,\n",
    "      DelimitedFiles,\n",
    "      DataStructures,\n",
    "      OrderedCollections\n",
    "\n",
    "      dir = @__DIR__ ;"
   ]
  },
  {
   "cell_type": "markdown",
   "id": "556f3838-727a-4894-8dd0-104b474ce592",
   "metadata": {},
   "source": [
    "Load the list of DOI available in Sci-Hub as full-text:"
   ]
  },
  {
   "cell_type": "code",
   "execution_count": 2,
   "id": "415f40c3-4d5b-484c-993c-39f48c6ee6b1",
   "metadata": {
    "scrolled": true
   },
   "outputs": [],
   "source": [
    "scihub_dois = dir * \"/../data/sci-hub-doi-2022-02-12.txt\"\n",
    "\n",
    "scihub_dois = readdlm(scihub_dois, '\\t', String, '\\n', quotes = false, use_mmap = true)\n",
    "scihub_dois = Dict(lowercase.(replace.(scihub_dois[:,1], !isascii => \"\")) .=> true) ;"
   ]
  },
  {
   "cell_type": "markdown",
   "id": "884aa60c-6059-45a6-86c8-26924b5dbc2c",
   "metadata": {},
   "source": [
    "Load the list of Crossref .tab files:"
   ]
  },
  {
   "cell_type": "code",
   "execution_count": 3,
   "id": "a3e9dfe8-f635-45e6-aa8d-8f33f9ebd0fd",
   "metadata": {
    "scrolled": true
   },
   "outputs": [
    {
     "data": {
      "text/plain": [
       "31601-element Vector{String}:\n",
       " \"/media/alexandra/8 TB/Projects/\"\u001b[93m\u001b[1m ⋯ 24 bytes ⋯ \u001b[22m\u001b[39m\"ocessing/../data/crossref/0.tab\"\n",
       " \"/media/alexandra/8 TB/Projects/\"\u001b[93m\u001b[1m ⋯ 24 bytes ⋯ \u001b[22m\u001b[39m\"ocessing/../data/crossref/1.tab\"\n",
       " \"/media/alexandra/8 TB/Projects/\"\u001b[93m\u001b[1m ⋯ 25 bytes ⋯ \u001b[22m\u001b[39m\"cessing/../data/crossref/10.tab\"\n",
       " \"/media/alexandra/8 TB/Projects/\"\u001b[93m\u001b[1m ⋯ 26 bytes ⋯ \u001b[22m\u001b[39m\"essing/../data/crossref/100.tab\"\n",
       " \"/media/alexandra/8 TB/Projects/\"\u001b[93m\u001b[1m ⋯ 27 bytes ⋯ \u001b[22m\u001b[39m\"ssing/../data/crossref/1000.tab\"\n",
       " \"/media/alexandra/8 TB/Projects/\"\u001b[93m\u001b[1m ⋯ 28 bytes ⋯ \u001b[22m\u001b[39m\"sing/../data/crossref/10000.tab\"\n",
       " \"/media/alexandra/8 TB/Projects/\"\u001b[93m\u001b[1m ⋯ 28 bytes ⋯ \u001b[22m\u001b[39m\"sing/../data/crossref/10001.tab\"\n",
       " \"/media/alexandra/8 TB/Projects/\"\u001b[93m\u001b[1m ⋯ 28 bytes ⋯ \u001b[22m\u001b[39m\"sing/../data/crossref/10002.tab\"\n",
       " \"/media/alexandra/8 TB/Projects/\"\u001b[93m\u001b[1m ⋯ 28 bytes ⋯ \u001b[22m\u001b[39m\"sing/../data/crossref/10003.tab\"\n",
       " \"/media/alexandra/8 TB/Projects/\"\u001b[93m\u001b[1m ⋯ 28 bytes ⋯ \u001b[22m\u001b[39m\"sing/../data/crossref/10004.tab\"\n",
       " \"/media/alexandra/8 TB/Projects/\"\u001b[93m\u001b[1m ⋯ 28 bytes ⋯ \u001b[22m\u001b[39m\"sing/../data/crossref/10005.tab\"\n",
       " \"/media/alexandra/8 TB/Projects/\"\u001b[93m\u001b[1m ⋯ 28 bytes ⋯ \u001b[22m\u001b[39m\"sing/../data/crossref/10006.tab\"\n",
       " \"/media/alexandra/8 TB/Projects/\"\u001b[93m\u001b[1m ⋯ 28 bytes ⋯ \u001b[22m\u001b[39m\"sing/../data/crossref/10007.tab\"\n",
       " ⋮\n",
       " \"/media/alexandra/8 TB/Projects/\"\u001b[93m\u001b[1m ⋯ 27 bytes ⋯ \u001b[22m\u001b[39m\"ssing/../data/crossref/9989.tab\"\n",
       " \"/media/alexandra/8 TB/Projects/\"\u001b[93m\u001b[1m ⋯ 26 bytes ⋯ \u001b[22m\u001b[39m\"essing/../data/crossref/999.tab\"\n",
       " \"/media/alexandra/8 TB/Projects/\"\u001b[93m\u001b[1m ⋯ 27 bytes ⋯ \u001b[22m\u001b[39m\"ssing/../data/crossref/9990.tab\"\n",
       " \"/media/alexandra/8 TB/Projects/\"\u001b[93m\u001b[1m ⋯ 27 bytes ⋯ \u001b[22m\u001b[39m\"ssing/../data/crossref/9991.tab\"\n",
       " \"/media/alexandra/8 TB/Projects/\"\u001b[93m\u001b[1m ⋯ 27 bytes ⋯ \u001b[22m\u001b[39m\"ssing/../data/crossref/9992.tab\"\n",
       " \"/media/alexandra/8 TB/Projects/\"\u001b[93m\u001b[1m ⋯ 27 bytes ⋯ \u001b[22m\u001b[39m\"ssing/../data/crossref/9993.tab\"\n",
       " \"/media/alexandra/8 TB/Projects/\"\u001b[93m\u001b[1m ⋯ 27 bytes ⋯ \u001b[22m\u001b[39m\"ssing/../data/crossref/9994.tab\"\n",
       " \"/media/alexandra/8 TB/Projects/\"\u001b[93m\u001b[1m ⋯ 27 bytes ⋯ \u001b[22m\u001b[39m\"ssing/../data/crossref/9995.tab\"\n",
       " \"/media/alexandra/8 TB/Projects/\"\u001b[93m\u001b[1m ⋯ 27 bytes ⋯ \u001b[22m\u001b[39m\"ssing/../data/crossref/9996.tab\"\n",
       " \"/media/alexandra/8 TB/Projects/\"\u001b[93m\u001b[1m ⋯ 27 bytes ⋯ \u001b[22m\u001b[39m\"ssing/../data/crossref/9997.tab\"\n",
       " \"/media/alexandra/8 TB/Projects/\"\u001b[93m\u001b[1m ⋯ 27 bytes ⋯ \u001b[22m\u001b[39m\"ssing/../data/crossref/9998.tab\"\n",
       " \"/media/alexandra/8 TB/Projects/\"\u001b[93m\u001b[1m ⋯ 27 bytes ⋯ \u001b[22m\u001b[39m\"ssing/../data/crossref/9999.tab\""
      ]
     },
     "execution_count": 3,
     "metadata": {},
     "output_type": "execute_result"
    }
   ],
   "source": [
    "tabs = glob(\"*.tab\", dir * \"/../data/crossref\")"
   ]
  },
  {
   "cell_type": "markdown",
   "id": "15a6a4d3-30c9-4fdd-b358-dce4e47b0d83",
   "metadata": {},
   "source": [
    "The following function will take a name of the .tab file as an input, and return two outputs:\n",
    "\n",
    "- list of Sci-Hub available DOIs that are found in this .tab file\n",
    "- dictonary with total number of DOIs counted by year and publisher"
   ]
  },
  {
   "cell_type": "code",
   "execution_count": 4,
   "id": "e2963416-d161-481d-973f-7358fee4a671",
   "metadata": {},
   "outputs": [],
   "source": [
    "function years(tab, scihub, y_start = 2000, y_end = 2024)\n",
    "    data = readdlm(tab, '\\t', String, '\\n', quotes = false, use_mmap = true)\n",
    "    \n",
    "    counts = Dict()\n",
    "    dois   = []\n",
    "\n",
    "    # iterate through every record in Crosref tab file\n",
    "    \n",
    "    for (doi, _, _, published, pub) in eachrow(data)\n",
    "\n",
    "         # only articles availabe in Sci-Hub will be counted\n",
    "        \n",
    "         if (doi ∈ scihub)\n",
    "            \n",
    "            year = parse(Int, published[1:4])\n",
    "\n",
    "            # skip if no publishing date or wrong one was specified            \n",
    "            (year < 1600)    && continue\n",
    "            \n",
    "            # articles =< 2000 and >= 2024\n",
    "            # will be counted in totals\n",
    "            \n",
    "            (year < y_start) && (year = y_start)\n",
    "            (year > y_end)   && (year = y_end)\n",
    "\n",
    "            # initialize the counter for publisher if it wasn't yet\n",
    "            \n",
    "            if (pub ∉ keys(counts))\n",
    "                counts[pub] = Dict()\n",
    "                for y in y_start:y_end\n",
    "                    counts[pub][y] = 0\n",
    "            end end\n",
    "            \n",
    "            # increment the counter\n",
    "            counts[pub][year] += 1\n",
    "\n",
    "            # save DOI to the list that will be returned\n",
    "            push!(dois, doi)\n",
    "            \n",
    "        end\n",
    "    end\n",
    "\n",
    "    (dois, counts)\n",
    "end ;"
   ]
  },
  {
   "cell_type": "markdown",
   "id": "06cae294-f87e-4595-960d-5a1d1ebbf86d",
   "metadata": {},
   "source": [
    "Process every Crossref tab file and extract from it the number of DOIs by year and publisher. The processing is done sequentially (not in parallel mode)"
   ]
  },
  {
   "cell_type": "code",
   "execution_count": 5,
   "id": "07a6594e-b8cd-4770-8962-40bac93a191a",
   "metadata": {},
   "outputs": [
    {
     "name": "stdout",
     "output_type": "stream",
     "text": [
      "\u001b[32mProgress: 100%|█████████████████████████████████████████| Time: 0:06:02\u001b[39m:02\u001b[39m\n"
     ]
    }
   ],
   "source": [
    "scihub_counts = Dict()\n",
    "\n",
    "# a handy function that will be used to\n",
    "# sum up counts from different tab files\n",
    "plus(a, b) = merge(+, a, b)\n",
    "\n",
    "shuffle!(tabs)\n",
    "\n",
    "@showprogress output = stdout (\n",
    "\n",
    "    # iterate through every Crossref tab file\n",
    "    for tab in tabs\n",
    "\n",
    "        # count the number of Sci-Hub DOIs present in that file\n",
    "        dois, counts = years(tab, keys(scihub_dois))\n",
    "\n",
    "        # remove the DOIs that were found from the list\n",
    "        # of Sci-Hub articles to avoid memory overload\n",
    "        for doi in dois\n",
    "            delete!(scihub_dois, doi) end\n",
    "\n",
    "        # add counts extracted from tab file to total counts\n",
    "        scihub_counts = merge(plus, scihub_counts, counts)\n",
    "        \n",
    "    end ) ;"
   ]
  },
  {
   "cell_type": "markdown",
   "id": "58567ee2-4261-4890-8081-bb68d174bdb8",
   "metadata": {},
   "source": [
    "Preview the result:"
   ]
  },
  {
   "cell_type": "code",
   "execution_count": 6,
   "id": "e4b4c033-4e11-42bb-973b-e450c415f812",
   "metadata": {},
   "outputs": [
    {
     "data": {
      "text/plain": [
       "Dict{Any, Any} with 4085 entries:\n",
       "  \"Asia University\"         => Dict{Any, Any}(2024=>0, 2004=>0, 2002=>0, 2006=>…\n",
       "  \"University Press of Flo… => Dict{Any, Any}(2024=>0, 2004=>0, 2002=>0, 2006=>…\n",
       "  \"Sociedad Peruana de Obs… => Dict{Any, Any}(2024=>0, 2004=>0, 2002=>0, 2006=>…\n",
       "  \"JCDR Research and Publi… => Dict{Any, Any}(2024=>0, 2004=>0, 2002=>0, 2006=>…\n",
       "  \"Goodfellow Publishers\"   => Dict{Any, Any}(2024=>0, 2004=>0, 2023=>0, 2010=>…\n",
       "  \"University of Rijeka\"    => Dict{Any, Any}(2024=>0, 2004=>0, 2023=>0, 2010=>…\n",
       "  \"Lavoisier\"               => Dict{Any, Any}(2024=>0, 2004=>205, 2002=>148, 20…\n",
       "  \"Society for the Study o… => Dict{Any, Any}(2024=>0, 2004=>94, 2002=>119, 200…\n",
       "  \"Faculty of Tourism and … => Dict{Any, Any}(2024=>0, 2004=>0, 2002=>0, 2006=>…\n",
       "  \"Institute of Archaeolog… => Dict{Any, Any}(2024=>0, 2004=>0, 2002=>0, 2006=>…\n",
       "  \"Adenine Press, Inc.\"     => Dict{Any, Any}(2024=>0, 2004=>0, 2002=>0, 2006=>…\n",
       "  \"Japan Society of Sarcoi… => Dict{Any, Any}(2024=>0, 2004=>0, 2002=>0, 2006=>…\n",
       "  \"Bangladesh Journals Onl… => Dict{Any, Any}(2024=>0, 2004=>0, 2002=>0, 2006=>…\n",
       "  \"Hong Kong University Pr… => Dict{Any, Any}(2024=>0, 2004=>0, 2002=>0, 2006=>…\n",
       "  \"The Korean Institute of… => Dict{Any, Any}(2024=>0, 2004=>0, 2023=>0, 2010=>…\n",
       "  \"Co-Published with India… => Dict{Any, Any}(2024=>0, 2004=>0, 2002=>0, 2006=>…\n",
       "  \"Asian Spine Journal (AS… => Dict{Any, Any}(2024=>0, 2004=>0, 2002=>0, 2006=>…\n",
       "  \"Korean Society for Inte… => Dict{Any, Any}(2024=>0, 2004=>0, 2002=>0, 2006=>…\n",
       "  \"PT. PANUDUH ATMA WARAS\"  => Dict{Any, Any}(2024=>0, 2004=>0, 2002=>0, 2006=>…\n",
       "  \"Japanese Society of Env… => Dict{Any, Any}(2024=>0, 2004=>0, 2002=>0, 2006=>…\n",
       "  \"CO-PUBLISHED WITH HIGHE… => Dict{Any, Any}(2024=>0, 2004=>0, 2002=>0, 2006=>…\n",
       "  \"Carl Hanser Verlag GmbH… => Dict{Any, Any}(2024=>0, 2004=>2, 2002=>1, 2006=>…\n",
       "  \"Böhlau\"                  => Dict{Any, Any}(2024=>0, 2004=>0, 2002=>0, 2006=>…\n",
       "  \"Academic Studies Press\"  => Dict{Any, Any}(2024=>0, 2004=>0, 2002=>0, 2006=>…\n",
       "  \"Medpharm Publications\"   => Dict{Any, Any}(2024=>0, 2004=>83, 2002=>87, 2006…\n",
       "  ⋮                         => ⋮"
      ]
     },
     "execution_count": 6,
     "metadata": {},
     "output_type": "execute_result"
    }
   ],
   "source": [
    "scihub_counts"
   ]
  },
  {
   "cell_type": "markdown",
   "id": "d13acbe1-eeae-467b-8768-7ba31f380f88",
   "metadata": {},
   "source": [
    "Save results to output folder **data/publishers sci-hub**. Each publisher is saved to a separate .txt file, and the name of file equals to MD5 hash of publisher name. Each file containts total number of articles (DOIs) available in Sci-Hub that were published every year:"
   ]
  },
  {
   "cell_type": "code",
   "execution_count": 7,
   "id": "53ced4be-c600-4018-83bf-d8329bbe9346",
   "metadata": {},
   "outputs": [
    {
     "name": "stdout",
     "output_type": "stream",
     "text": [
      "\u001b[32mProgress: 100%|█████████████████████████████████████████| Time: 0:00:00\u001b[39m\n"
     ]
    }
   ],
   "source": [
    "@showprogress output = stdout (\n",
    "for (pub, years) in scihub_counts\n",
    "\n",
    "    hash = bytes2hex(md5(pub))\n",
    "    \n",
    "    open(dir * \"/../data/publishers sci-hub/\" * hash * \".txt\", \"w\") do oi\n",
    "         years = years |> SortedDict\n",
    "         println(oi, pub)\n",
    "        [println(oi, string(y, \"\\t\", n)) for (y, n) in years] end\n",
    "\n",
    "end )"
   ]
  }
 ],
 "metadata": {
  "kernelspec": {
   "display_name": "Julia 1.11.2",
   "language": "julia",
   "name": "julia-1.11"
  },
  "language_info": {
   "file_extension": ".jl",
   "mimetype": "application/julia",
   "name": "julia",
   "version": "1.11.2"
  }
 },
 "nbformat": 4,
 "nbformat_minor": 5
}
