{
 "cells": [
  {
   "cell_type": "markdown",
   "id": "7355320e-1349-4bc2-b60b-aea50ff1e919",
   "metadata": {},
   "source": [
    "# Crossref data preprocessing\n",
    "\n",
    "This notebook contains code in **Julia language** to pre-process Crossref public data file, that can be downloaded [here](https://academictorrents.com/details/4426fa56a4f3d376ece9ac37ed088095a30de568). The script will process Crossref JSON files and create tab-delimited files that contains only the following information about every DOI:\n",
    "\n",
    "- DOI\n",
    "- the time when DOI was created in Crosref\n",
    "- article type (journal article, conference, book or chapter, academic thesis and etc.)\n",
    "- publication date\n",
    "- publisher name\n",
    "\n",
    "The script takes around 18 hours to run on a server equipped with 2 Intel Xeon CPU E5-2698 v4 2.20GHz. After the process is complete, other preprocessing scripts e.g. *crossref date count.ipynb* can be ran.\n",
    "\n",
    "The data is prepared for the paper 'From black open access to open access of colour: accepting the diversity of approaches towards free science'."
   ]
  },
  {
   "cell_type": "code",
   "execution_count": 1,
   "id": "a13b33df-ad21-47cb-93a6-600a2276bb8e",
   "metadata": {},
   "outputs": [],
   "source": [
    "# the script will run 160 processes in parallel\n",
    "\n",
    "using Distributed\n",
    "\n",
    "addprocs(160 - nprocs(); exeflags = `--project=$(Base.active_project())`) ;"
   ]
  },
  {
   "cell_type": "code",
   "execution_count": 2,
   "id": "7735554a-34a6-4351-9d83-e529a2c843a8",
   "metadata": {},
   "outputs": [],
   "source": [
    "@everywhere begin\n",
    "\n",
    "    using Distributed\n",
    "    \n",
    "    using Glob\n",
    "    using JSON3\n",
    "    using ProgressMeter\n",
    "    using DelimitedFiles\n",
    "\n",
    "    # specify the folder where downloaded Crossref dataset is located\n",
    "    # the dataset must be unpacked from .gz files bedore processing\n",
    "    crossref = \"/raid5/datasets/crossref/\" ;\n",
    "    \n",
    "end"
   ]
  },
  {
   "cell_type": "markdown",
   "id": "e17a76ed-a9c5-448a-a741-a490719c34a7",
   "metadata": {},
   "source": [
    "Before running the script, create the folder named **tabs** in the same directory where Crossref dataset is stored. The script will save output to that folder.\n",
    "\n",
    "Crossref dataset is stored in multiple *.json* files. For each *.json*, the script will create corresponding *.tab* file."
   ]
  },
  {
   "cell_type": "code",
   "execution_count": 3,
   "id": "feefc04d-8eca-4075-b537-6831a3a78c76",
   "metadata": {
    "scrolled": true
   },
   "outputs": [
    {
     "data": {
      "text/plain": [
       "31601-element Vector{String}:\n",
       " \"/raid5/datasets/crossref/April 2024 Public Data File from Crossref/19530.json\"\n",
       " \"/raid5/datasets/crossref/April 2024 Public Data File from Crossref/19534.json\"\n",
       " \"/raid5/datasets/crossref/April 2024 Public Data File from Crossref/25432.json\"\n",
       " \"/raid5/datasets/crossref/April 2024 Public Data File from Crossref/24432.json\"\n",
       " \"/raid5/datasets/crossref/April 2024 Public Data File from Crossref/19526.json\"\n",
       " \"/raid5/datasets/crossref/April 2024 Public Data File from Crossref/25431.json\"\n",
       " \"/raid5/datasets/crossref/April 2024 Public Data File from Crossref/30414.json\"\n",
       " \"/raid5/datasets/crossref/April 2024 Public Data File from Crossref/24430.json\"\n",
       " \"/raid5/datasets/crossref/April 2024 Public Data File from Crossref/25393.json\"\n",
       " \"/raid5/datasets/crossref/April 2024 Public Data File from Crossref/30415.json\"\n",
       " \"/raid5/datasets/crossref/April 2024 Public Data File from Crossref/22481.json\"\n",
       " \"/raid5/datasets/crossref/April 2024 Public Data File from Crossref/19529.json\"\n",
       " \"/raid5/datasets/crossref/April 2024 Public Data File from Crossref/12912.json\"\n",
       " ⋮\n",
       " \"/raid5/datasets/crossref/April 2024 Public Data File from Crossref/2666.json\"\n",
       " \"/raid5/datasets/crossref/April 2024 Public Data File from Crossref/2786.json\"\n",
       " \"/raid5/datasets/crossref/April 2024 Public Data File from Crossref/2490.json\"\n",
       " \"/raid5/datasets/crossref/April 2024 Public Data File from Crossref/2677.json\"\n",
       " \"/raid5/datasets/crossref/April 2024 Public Data File from Crossref/20659.json\"\n",
       " \"/raid5/datasets/crossref/April 2024 Public Data File from Crossref/15922.json\"\n",
       " \"/raid5/datasets/crossref/April 2024 Public Data File from Crossref/20666.json\"\n",
       " \"/raid5/datasets/crossref/April 2024 Public Data File from Crossref/20660.json\"\n",
       " \"/raid5/datasets/crossref/April 2024 Public Data File from Crossref/20670.json\"\n",
       " \"/raid5/datasets/crossref/April 2024 Public Data File from Crossref/20667.json\"\n",
       " \"/raid5/datasets/crossref/April 2024 Public Data File from Crossref/20655.json\"\n",
       " \"/raid5/datasets/crossref/April 2024 Public Data File from Crossref/20651.json\""
      ]
     },
     "execution_count": 3,
     "metadata": {},
     "output_type": "execute_result"
    }
   ],
   "source": [
    "# make a list of .json files available, as well as .tab files\n",
    "# to avoid repeatedly processing those files that are already done\n",
    "\n",
    "jsons = glob(\"*.json\", crossref * \"April 2024 Public Data File from Crossref\")\n",
    "tabs  = glob(\"*.tab\",  crossref * \"tabs\")\n",
    "\n",
    "# exclude already processed files from queue, and\n",
    "# sort the list by size to process largest files first\n",
    "\n",
    "jsons = [j for j in jsons if filesize(j) > 0 && split(j, \"/\")[end] * \".tab\" ∉ tabs]\n",
    "jsons = sort(jsons, by = j -> -filesize(j))"
   ]
  },
  {
   "cell_type": "markdown",
   "id": "6b33de27-6cf0-46eb-9cd3-f3b4dd89d608",
   "metadata": {},
   "source": [
    "Preview a random article from random json file in Crossref index to give a sense of how data is structured:"
   ]
  },
  {
   "cell_type": "code",
   "execution_count": 4,
   "id": "6455df62-c08b-414e-8284-8c46cd0abe27",
   "metadata": {},
   "outputs": [
    {
     "name": "stdout",
     "output_type": "stream",
     "text": [
      "{\n",
      "    \"URL\": \"http://dx.doi.org/10.5026/jgeography.129.195\",\n",
      "    \"resource\": {\n",
      "        \"primary\": {\n",
      "            \"URL\": \"https://www.jstage.jst.go.jp/article/jgeography/129/2/129_129.195/_article/-char/ja/\"\n",
      "        }\n",
      "    },\n",
      "    \"member\": \"2942\",\n",
      "    \"score\": 0,\n",
      "    \"created\": {\n",
      "        \"date-parts\": [\n",
      "            [\n",
      "                2020,\n",
      "                5,\n",
      "                11\n",
      "            ]\n",
      "        ],\n",
      "        \"date-time\": \"2020-05-11T22:05:48Z\",\n",
      "        \"timestamp\": 1589234748000\n",
      "    },\n",
      "    \"ISSN\": [\n",
      "        \"0022-135X\",\n",
      "        \"1884-0884\"\n",
      "    ],\n",
      "    \"container-title\": [\n",
      "        \"Journal of Geography (Chigaku Zasshi)\"\n",
      "    ],\n",
      "    \"issued\": {\n",
      "        \"date-parts\": [\n",
      "            [\n",
      "                2020,\n",
      "                4,\n",
      "                25\n",
      "            ]\n",
      "        ]\n",
      "    },\n",
      "    \"issue\": \"2\",\n",
      "    \"prefix\": \"10.5026\",\n",
      "    \"reference-count\": 32,\n",
      "    \"indexed\": {\n",
      "        \"date-parts\": [\n",
      "            [\n",
      "                2022,\n",
      "                4,\n",
      "                3\n",
      "            ]\n",
      "        ],\n",
      "        \"date-time\": \"2022-04-03T06:03:57Z\",\n",
      "        \"timestamp\": 1648965837352\n",
      "    },\n",
      "    \"author\": [\n",
      "        {\n",
      "            \"given\": \"Kunio\",\n",
      "            \"family\": \"YASHIMA\",\n",
      "            \"sequence\": \"first\",\n",
      "            \"affiliation\": [\n",
      "                {\n",
      "                    \"name\": \"Hydrographic and Oceanographic Department, Japan Coast Guard, retired\"\n",
      "                }\n",
      "            ]\n",
      "        }\n",
      "    ],\n",
      "    \"DOI\": \"10.5026/jgeography.129.195\",\n",
      "    \"is-referenced-by-count\": 3,\n",
      "    \"published\": {\n",
      "        \"date-parts\": [\n",
      "            [\n",
      "                2020,\n",
      "                4,\n",
      "                25\n",
      "            ]\n",
      "        ]\n",
      "    },\n",
      "    \"published-print\": {\n",
      "        \"date-parts\": [\n",
      "            [\n",
      "                2020,\n",
      "                4,\n",
      "                25\n",
      "            ]\n",
      "        ]\n",
      "    },\n",
      "    \"subtitle\": [\n",
      "        \"─日本の正しい形・位置を世界に伝えた英国海図を中心に─\"\n",
      "    ],\n",
      "    \"content-domain\": {\n",
      "        \"domain\": [\n",
      "        ],\n",
      "        \"crossmark-restriction\": false\n",
      "    },\n",
      "    \"reference\": [\n",
      "        {\n",
      "            \"key\": \"1\",\n",
      "            \"unstructured\": \"Aramata, H. (1999): Explore the treasure warehouse of the United Kingdom Hydrographic Office. <i>Lapan, Zenrin</i>, <b>30</b>, 16-38.\"\n",
      "        },\n",
      "        {\n",
      "            \"key\": \"2\",\n",
      "            \"unstructured\": \"Hishiyama, T. (2017): Inoh Maps from map projection. <i>Chizu Joho</i>, <b>37</b>(3), 8-11.\"\n",
      "        },\n",
      "        {\n",
      "            \"key\": \"3\",\n",
      "            \"unstructured\": \"Hoyanagi, M. (1974): <i>A New Appreciation of the Scientific Achievement of Ino-Tadataka Who Established a Landmark in the History of Land-survey and Cartography of Japan</i>. Kokon Shoin, 510p.\"\n",
      "        },\n",
      "        {\n",
      "            \"key\": \"4\",\n",
      "            \"unstructured\": \"Imai, K. (2018): Duplications of Inoh&apos;s Maps—Their processes and applications at the then Hydrographic office of Japan. <i>Map, Journal of the Japan Cartographers Association</i>, <b>56</b>(1), 59-64.\"\n",
      "        },\n",
      "        {\n",
      "            \"key\": \"5\",\n",
      "            \"unstructured\": \"Imai, K. and Kambayashi, T. (1996): On the reproduced Inoh&apos;s maps held in the Hydrographic Department of Japan. <i>Map, Journal of the Japan Cartographers Association</i>, <b>34</b>(2), 54-57.\"\n",
      "        },\n",
      "        {\n",
      "            \"key\": \"6\",\n",
      "            \"unstructured\": \"Inoh Tadataka Research Association (2016): <i>Inoh Pedia Inoh Map Manual </i>(<i>Inoh Pedia Inozu Nyumon</i>). Inoh Tadataka e Museum.*\"\n",
      "        },\n",
      "        {\n",
      "            \"key\": \"7\",\n",
      "            \"unstructured\": \"Hydrographic Department, Maritime Safety Agency (1971): <i>History of Hydrography in Japan</i>. Hydrographic Association, 680p.\"\n",
      "        },\n",
      "        {\n",
      "            \"key\": \"8\",\n",
      "            \"unstructured\": \"Kanakubo, T. (1998): Inoh Map in the world survey history. in <i>A Recent Knowledge of Ino-Tadataka&apos;s Map</i> edited by Tokyo Geographical Society, Asakura Shoten, 135-163.*\"\n",
      "        },\n",
      "        {\n",
      "            \"key\": \"9\",\n",
      "            \"unstructured\": \"Kikuti, S. (2007): Admiralty charts for adjacent seas of Japan in the last days of Tokugawa regime and early in Meiji Era. <i>Report of Hydrographic and Oceanographic Researches</i>, <b>43</b>, 1-15.\"\n",
      "        },\n",
      "        {\n",
      "            \"key\": \"10\",\n",
      "            \"unstructured\": \"Nagaoka, H. (1914): On the vestige of old Inoh Tadataka. <i>Journal of Geography </i>(<i>Chigaku Zasshi</i>), <b>26</b>, 678-690.\"\n",
      "        },\n",
      "        {\n",
      "            \"key\": \"11\",\n",
      "            \"unstructured\": \"Nishikawa, O. (2015): World-wide achievement of Inoh Tadataka. <i>Abstract of Lectures of Tokyo Geographical Society </i>(<i>Tokyo Chigaku Kyokai Koen Yoshi</i>).* http://www.geog.or.jp/news/58-lectureheld/310-club293.html [Cited 2018/12/27].\"\n",
      "        },\n",
      "        {\n",
      "            \"key\": \"12\",\n",
      "            \"unstructured\": \"Oda, T. (1973): <i>History of Map </i>(<i>Chizu No Rekishi</i>). Kodansha, 279-282.*\"\n",
      "        },\n",
      "        {\n",
      "            \"key\": \"13\",\n",
      "            \"unstructured\": \"Otani, R. (1917): <i>Inoh Tadataka</i>. Iwanami Shoten, 766p.*\"\n",
      "        },\n",
      "        {\n",
      "            \"key\": \"14\",\n",
      "            \"unstructured\": \"Pascoe, L.N. (1972): The British contribution to the Hydrographic Survey and Charting of Japan 1854 to 1883. in <i>Researches in Hydrography and Oceanography</i>, Japan Hydrographic Association, 355-386.\"\n",
      "        },\n",
      "        {\n",
      "            \"key\": \"15\",\n",
      "            \"unstructured\": \"Pye, N. and Beasley, G. (1951): An undescribed manuscript copy of Inoh Chukei&apos;s Map of Japan. <i>Geographical Journal</i>, <b>117</b>(2), 176-187.\"\n",
      "        },\n",
      "        {\n",
      "            \"key\": \"16\",\n",
      "            \"unstructured\": \"Sano, T. (1882): Vestige late Inoh Tadataka. <i>Journal of the Tokio Geographical Society </i>(<i>Tokyo Chigaku Kyokai Hokoku</i>), <b>4</b>(4), 1-14.*\"\n",
      "        },\n",
      "        {\n",
      "            \"key\": \"17\",\n",
      "            \"unstructured\": \"Hydrographic Office (1916): <i>History of Hydrography from Meiji Era 2 to 18 </i>(<i>Suirobu Enkakushi Ji Meiji 2 Nen Shi Do 18 Nen</i>). 180-243.*\"\n",
      "        },\n",
      "        {\n",
      "            \"key\": \"18\",\n",
      "            \"unstructured\": \"Hydrographic Office (unknown): <i>Catalogue of Inoh Map </i>(<i>Inozu Mokuroku</i>). 1-17.*\"\n",
      "        },\n",
      "        {\n",
      "            \"key\": \"19\",\n",
      "            \"unstructured\": \"Suzuki, J. (2015): Map compilation of early Meiji Era in old holding map of Akamon Library. in <i>Time Capsule on Studies of Historical and Geographical Studies in Modern Transition Period </i>(<i>Kindai Ikoki Rekishi Chiri Haaku No Taimu Kapuseru Akamon Shoko Kyuzo Chizu No Kenkyu</i>) by Sugimoto, F., 50-64.*\"\n",
      "        },\n",
      "        {\n",
      "            \"key\": \"20\",\n",
      "            \"unstructured\": \"Suzuki, J. (2018): The vestige of the utilization of Inoh Maps. <i>Map, Journal of the Japan Cartographers Association</i>, <b>56</b>(1), 9-23.*\"\n",
      "        },\n",
      "        {\n",
      "            \"key\": \"21\",\n",
      "            \"unstructured\": \"Suzuki, J., Akiba, T., Inoh, H., Inoue, H., Imai, K., Saito, J., Sakamoto, T., Nishida, H., Hoshino, Y. and Watanabe, I. (2008): “Inoh Tosha-zu” the manuscript copy of Inoh&apos;s large scale maps held in the Hydrographic Office, Japan Coast Guard. <i>Map, Journal of the Japan Cartographers Association</i>, <b>46</b>(1), 1-12.*\"\n",
      "        },\n",
      "        {\n",
      "            \"key\": \"22\",\n",
      "            \"unstructured\": \"Tsurumi, E. (1998): Map reading of Inoh Maps. in <i>A Recent Knowledge of Ino-Tadataka&apos;s Map</i> edited by Tokyo Geographical Society, Asakura Shoten, 79-107.*\"\n",
      "        },\n",
      "        {\n",
      "            \"key\": \"23\",\n",
      "            \"unstructured\": \"Watanabe, I. (1995): Last Inoh Small scale Map submitted to Tokugawa Shogunate in Bunsei 4. <i>Inoh Map Research </i>(<i>Inozu Tankyu</i>), <b>5</b>.*\"\n",
      "        },\n",
      "        {\n",
      "            \"key\": \"24\",\n",
      "            \"unstructured\": \"Watanabe, I. (1996): The last and existing stage of Inoh&apos;s Japanese maps. <i>Map, Journal of the Japan Cartographers Association</i>, <b>34</b>(2), 2-17.*\"\n",
      "        },\n",
      "        {\n",
      "            \"key\": \"25\",\n",
      "            \"unstructured\": \"Wilford, J.N. (1981): <i>The Mapmakers</i>. 414p.\"\n",
      "        },\n",
      "        {\n",
      "            \"key\": \"26\",\n",
      "            \"unstructured\": \"Yashima, K. (2018a): British Admiralty chart and Inoh Map—On Seto Inland Sea—. <i>Report of Memorial Lecture Meeting of Tadataka 200<sup>th</sup> Anniversary of His Death, “Make a Map, Learn from a Map” </i>(<i>Inoh Tadataka Botsugo 200 Nen Kinen Koenkai Chizu O Tsukuru Chizu Kara Wakaru</i>), Tokyo Geographical Society.* http://www.geog.or.jp/news/58-lectureheld/357-inou200-180915.html [Cited 2018/12/27].\"\n",
      "        },\n",
      "        {\n",
      "            \"key\": \"27\",\n",
      "            \"unstructured\": \"Yashima, K. (2018b): Satsuma, Britain war and chart production of Japanese coastal waters by British navy. <i>Report of Memorial Lecture Meeting of Tadataka 200<sup>th</sup> Anniversary of His Death, “Satsuma and Inoh Tadataka” </i>(<i>Inoh Tadataka Botsugo 200 Nen Kine Koenkai Sokuryo No Hi Kinen Koenkai Satsuma To Inoh Tadataka</i>), Tokyo Geographical Society.* http://www.geog.or.jp/news/58-lectureheld/341-inou200.html [Cited 2018/12/27].\"\n",
      "        },\n",
      "        {\n",
      "            \"key\": \"28\",\n",
      "            \"unstructured\": \"Yashima, K. and Suzuki, J. (2018): On the existing (final submission to the Shogunate) Inoh Small scale Map—Focusing on new findings of Inoh Small scale Map provided to the United Kingdom—. <i>Map, Journal of the Japan Cartographers Association</i>, <b>56</b>(1), 51-58.*\"\n",
      "        },\n",
      "        {\n",
      "            \"key\": \"29\",\n",
      "            \"unstructured\": \"Yashima, K. and Yajima, M. (2018): Report on the 2017 Geotour in United Kingdom. <i>Journal of Geography </i>(<i>Chigaku Zasshi</i>), <b>127</b>, N87-N92.\"\n",
      "        },\n",
      "        {\n",
      "            \"key\": \"30\",\n",
      "            \"unstructured\": \"Yokoyama, Y. (2001): Survey of Japanese coastal waters in the 19th century. <i>Mapping and Politics in Premodern Japan</i> edited by Kuroda, H., Beli, M.E. and Sugimoto, A., Tokyo University Press, 269-344.*\"\n",
      "        },\n",
      "        {\n",
      "            \"key\": \"31\",\n",
      "            \"unstructured\": \"Yokoyama, Y. (2005): Hydrographic survey and nautical charting in the late Edo period and Meiji Restoration period. <i>Map Center </i>(<i>Chizu Chushin</i>), <b>395</b>, 10-12.*\"\n",
      "        },\n",
      "        {\n",
      "            \"key\": \"32\",\n",
      "            \"unstructured\": \"* Title etc. translated by K.Y.\"\n",
      "        }\n",
      "    ],\n",
      "    \"title\": [\n",
      "        \"Utilization of Inoh Maps for Nautical Charting: Focusing on British Admiralty Charts that Propagated the Outline of Japan and Its Location on World Maps\"\n",
      "    ],\n",
      "    \"link\": [\n",
      "        {\n",
      "            \"URL\": \"https://www.jstage.jst.go.jp/article/jgeography/129/2/129_129.195/_pdf\",\n",
      "            \"content-type\": \"unspecified\",\n",
      "            \"content-version\": \"vor\",\n",
      "            \"intended-application\": \"similarity-checking\"\n",
      "        }\n",
      "    ],\n",
      "    \"source\": \"Crossref\",\n",
      "    \"type\": \"journal-article\",\n",
      "    \"publisher\": \"Tokyo Geographical Society\",\n",
      "    \"journal-issue\": {\n",
      "        \"issue\": \"2\",\n",
      "        \"published-print\": {\n",
      "            \"date-parts\": [\n",
      "                [\n",
      "                    2020\n",
      "                ]\n",
      "            ]\n",
      "        }\n",
      "    },\n",
      "    \"volume\": \"129\",\n",
      "    \"references-count\": 32,\n",
      "    \"issn-type\": [\n",
      "        {\n",
      "            \"value\": \"0022-135X\",\n",
      "            \"type\": \"print\"\n",
      "        },\n",
      "        {\n",
      "            \"value\": \"1884-0884\",\n",
      "            \"type\": \"electronic\"\n",
      "        }\n",
      "    ],\n",
      "    \"deposited\": {\n",
      "        \"date-parts\": [\n",
      "            [\n",
      "                2020,\n",
      "                5,\n",
      "                16\n",
      "            ]\n",
      "        ],\n",
      "        \"date-time\": \"2020-05-16T03:36:04Z\",\n",
      "        \"timestamp\": 1589600164000\n",
      "    },\n",
      "    \"language\": \"en\",\n",
      "    \"page\": \"195-213\",\n",
      "    \"short-container-title\": [\n",
      "        \"Journal of Geography(Chigaku Zasshi)\",\n",
      "        \"J. Geogr.\",\n",
      "        \"Jour. Geogr.\",\n",
      "        \"Journal of Geography (Chigaku Zasshi)\",\n",
      "        \"Journal of Geography\"\n",
      "    ]\n",
      "}"
     ]
    }
   ],
   "source": [
    "jtest = JSON3.read(open(jsons[12345])).items[1]\n",
    "JSON3.pretty(jtest)"
   ]
  },
  {
   "cell_type": "code",
   "execution_count": 5,
   "id": "7400d89e-0d21-400d-b229-4ce96ef89e0f",
   "metadata": {},
   "outputs": [
    {
     "data": {
      "text/plain": [
       "\"10.5026/jgeography.129.195\""
      ]
     },
     "execution_count": 5,
     "metadata": {},
     "output_type": "execute_result"
    }
   ],
   "source": [
    "jtest.DOI"
   ]
  },
  {
   "cell_type": "code",
   "execution_count": 6,
   "id": "55d122fc-69e4-49a6-b706-7ee2bfe2fb1f",
   "metadata": {},
   "outputs": [
    {
     "data": {
      "text/plain": [
       "\"2020-05-11T22:05:48Z\""
      ]
     },
     "execution_count": 6,
     "metadata": {},
     "output_type": "execute_result"
    }
   ],
   "source": [
    "jtest.created[\"date-time\"]"
   ]
  },
  {
   "cell_type": "markdown",
   "id": "678d955e-ce51-4208-bc1b-58176fc2ad69",
   "metadata": {},
   "source": [
    "**Note**: the publication date is not available for every DOI, and sometimes is not full (e.g. only year will be stored)"
   ]
  },
  {
   "cell_type": "code",
   "execution_count": 7,
   "id": "6d6501f6-07a3-4d7b-b24a-e5c758211f2f",
   "metadata": {},
   "outputs": [
    {
     "data": {
      "text/plain": [
       "3-element JSON3.Array{Int64, Base.CodeUnits{UInt8, String}, SubArray{UInt64, 1, Vector{UInt64}, Tuple{UnitRange{Int64}}, true}}:\n",
       " 2020\n",
       "    4\n",
       "   25"
      ]
     },
     "execution_count": 7,
     "metadata": {},
     "output_type": "execute_result"
    }
   ],
   "source": [
    "jtest.published[\"date-parts\"][1]"
   ]
  },
  {
   "cell_type": "code",
   "execution_count": 8,
   "id": "c8f72a02-a5c1-4304-ba36-9e0a0157021e",
   "metadata": {},
   "outputs": [
    {
     "data": {
      "text/plain": [
       "\"journal-article\""
      ]
     },
     "execution_count": 8,
     "metadata": {},
     "output_type": "execute_result"
    }
   ],
   "source": [
    "jtest.type"
   ]
  },
  {
   "cell_type": "code",
   "execution_count": 9,
   "id": "8a8ce8b5-5f57-4efb-9297-0a733339697b",
   "metadata": {},
   "outputs": [
    {
     "data": {
      "text/plain": [
       "\"Tokyo Geographical Society\""
      ]
     },
     "execution_count": 9,
     "metadata": {},
     "output_type": "execute_result"
    }
   ],
   "source": [
    "jtest.publisher"
   ]
  },
  {
   "cell_type": "markdown",
   "id": "60ae12f8-4e68-4cc6-9844-48e47b10bd48",
   "metadata": {},
   "source": [
    "Define a function that takes .json file name as an input, processes it and creates .tab file as output, that contains selected information (creation and publication date, type and publisher name) for every DOI:"
   ]
  },
  {
   "cell_type": "code",
   "execution_count": 10,
   "id": "d8ac1fee-eba8-4c97-9ed8-0294b60be16c",
   "metadata": {},
   "outputs": [],
   "source": [
    "@everywhere begin\n",
    "\n",
    "    function tabulate(json)\n",
    "\n",
    "        # a function to clear excessive space from publisher names\n",
    "        clear(s) = join(split(s, r\"\\s+\"), \" \")\n",
    "\n",
    "        # get JSON file name, without extension and path\n",
    "        jid = split(split(json, \"/\")[end], \".\")[end-1]\n",
    "\n",
    "        # if the file was already processed and .tab created, skip\n",
    "        isfile(crossref * \"tabs/$jid.tab\") && return 1\n",
    "\n",
    "        # create temporary file to store output\n",
    "        output = open(crossref * \"tabs/$jid.tmp\", \"w\")\n",
    "\n",
    "        # read JSON file into variable\n",
    "        data = JSON3.read(open(json))\n",
    "\n",
    "        # each JSON file contains multiple records\n",
    "        # one record per article, enumerate in the lopop\n",
    "        for item in data.items\n",
    "\n",
    "            # process only correct items that have DOI creation date\n",
    "            # and item type specified and non-empty DOI\n",
    "            \n",
    "            fields = keys(item)\n",
    "            \n",
    "            if (length(item.DOI) > 0) && (\"created\" in fields) && (\"type\" in fields)\n",
    "\n",
    "                # extract DOI creation time\n",
    "                created = split(item.created[\"date-time\"], \"T\")[1]\n",
    "\n",
    "                # if publication date is available, extract\n",
    "                # it into variable and format to YYYY-MM-DD\n",
    "                \n",
    "                if (\"published\"  in fields) &&\n",
    "                   (\"date-parts\" in keys(item.published))\n",
    "                    ymd = string.(item.published[\"date-parts\"][1])\n",
    "                    while length(ymd) < 3 push!(ymd, \"00\") end\n",
    "                    for i in [2,3]\n",
    "                        ymd[i] = lpad(ymd[i], 2, \"0\") end\n",
    "                        ymd[1] = lpad(ymd[1], 4, \"0\")\n",
    "                    published = join(ymd, \"-\")\n",
    "                else\n",
    "                    published = \"0000-00-00\"\n",
    "                end\n",
    "\n",
    "                # extract publisher name\n",
    "                publisher = \"publisher\" in fields ? clear(item.publisher) : \"N/A\"\n",
    "\n",
    "                # write extracted data to tab-delimited file\n",
    "                write(output, join([\n",
    "                            \n",
    "                    lowercase(item.DOI),\n",
    "                    item.type,\n",
    "                    created,\n",
    "                    published,\n",
    "                    publisher\n",
    "                \n",
    "                ], \"\\t\") * \"\\n\")\n",
    "                \n",
    "        end end\n",
    "\n",
    "        close(output)\n",
    "\n",
    "        # create output .tab file from temporary\n",
    "        \n",
    "        mv(crossref * \"tabs/$jid.tmp\",\n",
    "           crossref * \"tabs/$jid.tab\") ;\n",
    "    \n",
    "    end\n",
    "    \n",
    "end"
   ]
  },
  {
   "cell_type": "markdown",
   "id": "f33fd0c7-3169-4747-a01d-53901f357257",
   "metadata": {},
   "source": [
    "Run parallel processing of the array of .json files. The processing will typically take a few hours and accelerate with every processed file, since largest files are processed first:"
   ]
  },
  {
   "cell_type": "code",
   "execution_count": null,
   "id": "be1d2bec-c3f6-4582-8d06-332788e189e3",
   "metadata": {},
   "outputs": [
    {
     "name": "stdout",
     "output_type": "stream",
     "text": [
      "\u001b[32mProgress:  21%|████████▊                                |  ETA: 11:16:10\u001b[39m57\u001b[39mm"
     ]
    }
   ],
   "source": [
    "@showprogress output = stdout @distributed for j in jsons tabulate(j) end"
   ]
  }
 ],
 "metadata": {
  "kernelspec": {
   "display_name": "Julia 1.11.2",
   "language": "julia",
   "name": "julia-1.11"
  },
  "language_info": {
   "file_extension": ".jl",
   "mimetype": "application/julia",
   "name": "julia",
   "version": "1.11.2"
  }
 },
 "nbformat": 4,
 "nbformat_minor": 5
}
