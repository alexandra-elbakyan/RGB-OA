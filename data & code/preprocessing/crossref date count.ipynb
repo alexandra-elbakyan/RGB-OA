{
 "cells": [
  {
   "cell_type": "markdown",
   "id": "879104b0-9edf-4e42-b583-d3fa53bc2390",
   "metadata": {},
   "source": [
    "# Crossref: number of published articles\n",
    "\n",
    "This notebook contains code in **Julia language** to calculate number of articles coming from each publisher every year. The script requires pre-processed Crossref tabulated files to be already available in *data/crossref* folder. To generate .tab files from publicly available Crossref dataset, see *crossref to tab.ipynb*.\n",
    "\n",
    "The script will produce two kinds of output:\n",
    "\n",
    "(a) a separate .txt file for every publisher in Crossref, that will contain total number of articles published before 2001, and every year after 2001. These data will be used to create figures in *sci-hub percent per publisher.ipynb* notebook.\n",
    "\n",
    "(b) *crossref date count.tab* file, that will contain, for every date since 2003 (when Crossref index was established) the number of DOIs created in Crossref on that date. Only DOI of type *journal-article* and *proceedings-article* will be counted. The data will be used in *sci-hub db growth.ipynb* notebook.\n",
    "\n",
    "The data is prepared for the paper 'From black open access to open access of colour: accepting the diversity of approaches towards free science'."
   ]
  },
  {
   "cell_type": "code",
   "execution_count": 1,
   "id": "8d68f89a-22a2-446a-ad3a-8cd97cd9b05e",
   "metadata": {},
   "outputs": [],
   "source": [
    "# the script will process Crossref .tab files in 48 parallel processes\n",
    "\n",
    "using Distributed\n",
    "\n",
    "addprocs(48 - nprocs(); exeflags = `--project=$(Base.active_project())`) ;"
   ]
  },
  {
   "cell_type": "code",
   "execution_count": 2,
   "id": "75644109-4498-4bb3-aed7-a500adc79a68",
   "metadata": {},
   "outputs": [],
   "source": [
    "@everywhere begin\n",
    "    \n",
    "    using MD5,\n",
    "          Glob,\n",
    "          Dates,\n",
    "          Random,\n",
    "          ProgressMeter,\n",
    "          DelimitedFiles,\n",
    "          DataStructures\n",
    "\n",
    "    dir = @__DIR__ ;\n",
    "    \n",
    "end"
   ]
  },
  {
   "cell_type": "code",
   "execution_count": 3,
   "id": "b109623c-bb38-4bc3-b871-c78e624c3642",
   "metadata": {
    "scrolled": true
   },
   "outputs": [
    {
     "data": {
      "text/plain": [
       "31601-element Vector{String}:\n",
       " \"/media/alexandra/8 TB/Projects/\"\u001b[93m\u001b[1m ⋯ 24 bytes ⋯ \u001b[22m\u001b[39m\"ocessing/../data/crossref/0.tab\"\n",
       " \"/media/alexandra/8 TB/Projects/\"\u001b[93m\u001b[1m ⋯ 24 bytes ⋯ \u001b[22m\u001b[39m\"ocessing/../data/crossref/1.tab\"\n",
       " \"/media/alexandra/8 TB/Projects/\"\u001b[93m\u001b[1m ⋯ 25 bytes ⋯ \u001b[22m\u001b[39m\"cessing/../data/crossref/10.tab\"\n",
       " \"/media/alexandra/8 TB/Projects/\"\u001b[93m\u001b[1m ⋯ 26 bytes ⋯ \u001b[22m\u001b[39m\"essing/../data/crossref/100.tab\"\n",
       " \"/media/alexandra/8 TB/Projects/\"\u001b[93m\u001b[1m ⋯ 27 bytes ⋯ \u001b[22m\u001b[39m\"ssing/../data/crossref/1000.tab\"\n",
       " \"/media/alexandra/8 TB/Projects/\"\u001b[93m\u001b[1m ⋯ 28 bytes ⋯ \u001b[22m\u001b[39m\"sing/../data/crossref/10000.tab\"\n",
       " \"/media/alexandra/8 TB/Projects/\"\u001b[93m\u001b[1m ⋯ 28 bytes ⋯ \u001b[22m\u001b[39m\"sing/../data/crossref/10001.tab\"\n",
       " \"/media/alexandra/8 TB/Projects/\"\u001b[93m\u001b[1m ⋯ 28 bytes ⋯ \u001b[22m\u001b[39m\"sing/../data/crossref/10002.tab\"\n",
       " \"/media/alexandra/8 TB/Projects/\"\u001b[93m\u001b[1m ⋯ 28 bytes ⋯ \u001b[22m\u001b[39m\"sing/../data/crossref/10003.tab\"\n",
       " \"/media/alexandra/8 TB/Projects/\"\u001b[93m\u001b[1m ⋯ 28 bytes ⋯ \u001b[22m\u001b[39m\"sing/../data/crossref/10004.tab\"\n",
       " \"/media/alexandra/8 TB/Projects/\"\u001b[93m\u001b[1m ⋯ 28 bytes ⋯ \u001b[22m\u001b[39m\"sing/../data/crossref/10005.tab\"\n",
       " \"/media/alexandra/8 TB/Projects/\"\u001b[93m\u001b[1m ⋯ 28 bytes ⋯ \u001b[22m\u001b[39m\"sing/../data/crossref/10006.tab\"\n",
       " \"/media/alexandra/8 TB/Projects/\"\u001b[93m\u001b[1m ⋯ 28 bytes ⋯ \u001b[22m\u001b[39m\"sing/../data/crossref/10007.tab\"\n",
       " ⋮\n",
       " \"/media/alexandra/8 TB/Projects/\"\u001b[93m\u001b[1m ⋯ 27 bytes ⋯ \u001b[22m\u001b[39m\"ssing/../data/crossref/9989.tab\"\n",
       " \"/media/alexandra/8 TB/Projects/\"\u001b[93m\u001b[1m ⋯ 26 bytes ⋯ \u001b[22m\u001b[39m\"essing/../data/crossref/999.tab\"\n",
       " \"/media/alexandra/8 TB/Projects/\"\u001b[93m\u001b[1m ⋯ 27 bytes ⋯ \u001b[22m\u001b[39m\"ssing/../data/crossref/9990.tab\"\n",
       " \"/media/alexandra/8 TB/Projects/\"\u001b[93m\u001b[1m ⋯ 27 bytes ⋯ \u001b[22m\u001b[39m\"ssing/../data/crossref/9991.tab\"\n",
       " \"/media/alexandra/8 TB/Projects/\"\u001b[93m\u001b[1m ⋯ 27 bytes ⋯ \u001b[22m\u001b[39m\"ssing/../data/crossref/9992.tab\"\n",
       " \"/media/alexandra/8 TB/Projects/\"\u001b[93m\u001b[1m ⋯ 27 bytes ⋯ \u001b[22m\u001b[39m\"ssing/../data/crossref/9993.tab\"\n",
       " \"/media/alexandra/8 TB/Projects/\"\u001b[93m\u001b[1m ⋯ 27 bytes ⋯ \u001b[22m\u001b[39m\"ssing/../data/crossref/9994.tab\"\n",
       " \"/media/alexandra/8 TB/Projects/\"\u001b[93m\u001b[1m ⋯ 27 bytes ⋯ \u001b[22m\u001b[39m\"ssing/../data/crossref/9995.tab\"\n",
       " \"/media/alexandra/8 TB/Projects/\"\u001b[93m\u001b[1m ⋯ 27 bytes ⋯ \u001b[22m\u001b[39m\"ssing/../data/crossref/9996.tab\"\n",
       " \"/media/alexandra/8 TB/Projects/\"\u001b[93m\u001b[1m ⋯ 27 bytes ⋯ \u001b[22m\u001b[39m\"ssing/../data/crossref/9997.tab\"\n",
       " \"/media/alexandra/8 TB/Projects/\"\u001b[93m\u001b[1m ⋯ 27 bytes ⋯ \u001b[22m\u001b[39m\"ssing/../data/crossref/9998.tab\"\n",
       " \"/media/alexandra/8 TB/Projects/\"\u001b[93m\u001b[1m ⋯ 27 bytes ⋯ \u001b[22m\u001b[39m\"ssing/../data/crossref/9999.tab\""
      ]
     },
     "execution_count": 3,
     "metadata": {},
     "output_type": "execute_result"
    }
   ],
   "source": [
    "# create a list of all .tab files with Crossref data available\n",
    "\n",
    "tabs = glob(\"*.tab\", dir * \"/../data/crossref\")"
   ]
  },
  {
   "cell_type": "markdown",
   "id": "632697ab-fa8b-49b9-8f4b-00b159c11ac3",
   "metadata": {},
   "source": [
    "The following function will take a name of the .tab file as an input and process it, returning two dictionary outputs:\n",
    "\n",
    "- number of articles published every year, for every publisher\n",
    "- number of DOIs indexed every day"
   ]
  },
  {
   "cell_type": "code",
   "execution_count": 4,
   "id": "dbf8e1b1-7d5c-4cfb-9502-74a1bc34072a",
   "metadata": {},
   "outputs": [],
   "source": [
    "@everywhere function counts(tab,\n",
    "        \n",
    "                            subset = [\"journal-article\",\n",
    "                                      \"proceedings-article\"] ,\n",
    "        \n",
    "                            y_start = 2000,\n",
    "                            y_end   = 2024)\n",
    "    \n",
    "    data = readdlm(tab, '\\t', String, '\\n', quotes = false, use_mmap = true)\n",
    "\n",
    "    date_count,        # dictionary to store number of DOI created every day\n",
    "    pub_year_count =   # dictionary to store N of articles published every year\n",
    "    \n",
    "    Dict(), Dict()\n",
    "\n",
    "    # iterate through every DOI (record) in the tab file\n",
    "    \n",
    "    for record in eachrow(data)\n",
    "        doi, t, created, published, pub = record\n",
    "        year = parse(Int, published[1:4])\n",
    "\n",
    "        # if DOI denotes article published in a journal or conference\n",
    "        # increment the number of articles on the DOI creation date\n",
    "        \n",
    "        if t ∈ subset\n",
    "            \n",
    "            (created ∉ keys(date_count)) &&\n",
    "            (date_count[created]  = 0)\n",
    "             date_count[created] += 1\n",
    "        end\n",
    "\n",
    "        # skip if no publishing date or wrong one was specified\n",
    "        \n",
    "        (year < 1600)    && continue\n",
    "        \n",
    "        # articles before 2000 and from 2024\n",
    "        # will be counted in total not yearly\n",
    "        \n",
    "        (year < y_start) && (year = y_start)\n",
    "        (year > y_end)   && (year = y_end)\n",
    "\n",
    "        # initialize counter for publisher\n",
    "        \n",
    "        if (pub ∉ keys(pub_year_count))\n",
    "            pub_year_count[pub] = Dict()\n",
    "            for y in y_start:y_end\n",
    "                pub_year_count[pub][y] = 0\n",
    "            end\n",
    "        end\n",
    "        \n",
    "        # increment the corresponding year counter\n",
    "        \n",
    "        pub_year_count[pub][year] += 1\n",
    "        \n",
    "    end\n",
    "\n",
    "    (date_count, pub_year_count)\n",
    "    \n",
    "end"
   ]
  },
  {
   "cell_type": "markdown",
   "id": "71c32215-fcec-4f3f-af56-8c3c4aca07b4",
   "metadata": {},
   "source": [
    "The following function will add up results returned by *counts* function for each separate tab file:"
   ]
  },
  {
   "cell_type": "code",
   "execution_count": 5,
   "id": "eafc57b0-28c0-4768-aef2-31ee5c87c98f",
   "metadata": {},
   "outputs": [],
   "source": [
    "@everywhere function plus(tab_a, tab_b)\n",
    "    \n",
    "    date_count,   pub_year_count   = tab_a\n",
    "    date_count_b, pub_year_count_b = tab_b\n",
    "\n",
    "    years(a, b) = merge(+, a, b)\n",
    "    \n",
    "    (merge(+,     date_count,     date_count_b),\n",
    "     merge(years, pub_year_count, pub_year_count_b))\n",
    "        \n",
    "end"
   ]
  },
  {
   "cell_type": "markdown",
   "id": "a2f9a387-7b94-4751-8c6e-508323b5acc3",
   "metadata": {},
   "source": [
    "Run the parallel processing of all .tab files:"
   ]
  },
  {
   "cell_type": "code",
   "execution_count": 6,
   "id": "da2a427f-74b4-4b13-8b20-17f0438c2ff6",
   "metadata": {},
   "outputs": [
    {
     "name": "stdout",
     "output_type": "stream",
     "text": [
      "\u001b[32mProgress: 100%|█████████████████████████████████████████| Time: 0:01:00\u001b[39m2:19\u001b[39m\n"
     ]
    }
   ],
   "source": [
    "shuffle!(tabs)\n",
    "\n",
    "date_count, pub_year_count =\n",
    "\n",
    "@showprogress output = stdout (\n",
    "    @distributed plus ( for tab in tabs counts(tab) end )) ;"
   ]
  },
  {
   "cell_type": "markdown",
   "id": "97253020-dc3b-4083-9126-eaee013077dd",
   "metadata": {},
   "source": [
    "Preview calculation results for Elsevier:"
   ]
  },
  {
   "cell_type": "code",
   "execution_count": 7,
   "id": "fe7e9185-b504-4d3b-a988-e945b20eebc4",
   "metadata": {},
   "outputs": [
    {
     "data": {
      "text/plain": [
       "SortedDict{Any, Any, Base.Order.ForwardOrdering} with 25 entries:\n",
       "  2000 => 6504980\n",
       "  2001 => 315887\n",
       "  2002 => 313108\n",
       "  2003 => 362274\n",
       "  2004 => 404035\n",
       "  2005 => 397714\n",
       "  2006 => 442414\n",
       "  2007 => 457491\n",
       "  2008 => 478099\n",
       "  2009 => 505701\n",
       "  2010 => 501490\n",
       "  2011 => 541953\n",
       "  2012 => 571285\n",
       "  2013 => 585170\n",
       "  2014 => 609216\n",
       "  2015 => 641024\n",
       "  2016 => 659693\n",
       "  2017 => 681003\n",
       "  2018 => 704736\n",
       "  2019 => 746609\n",
       "  2020 => 795233\n",
       "  2021 => 848953\n",
       "  2022 => 941179\n",
       "  2023 => 1014357\n",
       "  2024 => 506362"
      ]
     },
     "execution_count": 7,
     "metadata": {},
     "output_type": "execute_result"
    }
   ],
   "source": [
    "pub_year_count[\"Elsevier BV\"] |> SortedDict"
   ]
  },
  {
   "cell_type": "markdown",
   "id": "e094b86c-de9b-4d1e-ab75-87bcf9b6b94a",
   "metadata": {},
   "source": [
    "Save the calculated counts of indexed DOIs by date:"
   ]
  },
  {
   "cell_type": "code",
   "execution_count": 8,
   "id": "19e8bdfe-5210-40f3-b32f-06b8e9c5b511",
   "metadata": {},
   "outputs": [],
   "source": [
    "writedlm(dir * \"/../data/crossref date count.tab\", date_count |> SortedDict)"
   ]
  },
  {
   "cell_type": "markdown",
   "id": "04a6852f-b24f-47c9-a812-5ec232d9946c",
   "metadata": {},
   "source": [
    "Store calculated counts of published articles per year for every publisher:"
   ]
  },
  {
   "cell_type": "code",
   "execution_count": 9,
   "id": "81adf150-9839-44fa-8aec-c29959fbf4fb",
   "metadata": {},
   "outputs": [
    {
     "name": "stdout",
     "output_type": "stream",
     "text": [
      "\u001b[32mProgress: 100%|█████████████████████████████████████████| Time: 0:00:04\u001b[39m\n"
     ]
    }
   ],
   "source": [
    "@showprogress output = stdout (\n",
    "for (pub, years) in pub_year_count\n",
    "\n",
    "    hash = bytes2hex(md5(pub)) # the name of the file is MD5 hash of publisher name\n",
    "    \n",
    "    open(dir * \"/../data/publishers/\" * hash * \".txt\", \"w\")  do oi\n",
    "         years = years |> SortedDict\n",
    "         println(oi, pub)\n",
    "        [println(oi, string(y, \"\\t\", n)) for (y, n) in years] end\n",
    "\n",
    "end )"
   ]
  }
 ],
 "metadata": {
  "kernelspec": {
   "display_name": "Julia 1.11.2",
   "language": "julia",
   "name": "julia-1.11"
  },
  "language_info": {
   "file_extension": ".jl",
   "mimetype": "application/julia",
   "name": "julia",
   "version": "1.11.2"
  }
 },
 "nbformat": 4,
 "nbformat_minor": 5
}
